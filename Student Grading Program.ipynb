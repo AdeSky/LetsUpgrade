{
 "cells": [
  {
   "cell_type": "code",
   "execution_count": null,
   "id": "f80bf8d0",
   "metadata": {},
   "outputs": [
    {
     "name": "stdout",
     "output_type": "stream",
     "text": [
      "Enter a mark: 111\n",
      "111\n",
      "Invalid mark\n",
      "Enter a mark: 100\n",
      "100\n",
      "Grade: A+\n"
     ]
    }
   ],
   "source": [
    "#Code to collect user \n",
    "while True:\n",
    "    mark = int(input(\"Enter a mark: \"))\n",
    "    print(mark)\n",
    "    if mark >= 90 and mark <= 100:\n",
    "        print(\"Grade: A+\")\n",
    "    elif mark >= 80 and mark <= 89:\n",
    "        print(\"Grade: A\")\n",
    "    elif mark >= 70 and mark <=79:\n",
    "        print(\"Grade: B\")\n",
    "    elif mark >= 60 and mark <=69:\n",
    "        print(\"Grade: C\")\n",
    "    elif mark >= 50 and mark <=59:\n",
    "        print(\"Grade: D\")\n",
    "    elif mark < 50 and mark == 0:\n",
    "        print(\"Grade: Fail\")\n",
    "    else:\n",
    "        print(\"Invalid mark\")\n",
    "        "
   ]
  },
  {
   "cell_type": "code",
   "execution_count": null,
   "id": "5c5ad208",
   "metadata": {},
   "outputs": [],
   "source": []
  },
  {
   "cell_type": "code",
   "execution_count": null,
   "id": "c1a75c07",
   "metadata": {},
   "outputs": [],
   "source": []
  }
 ],
 "metadata": {
  "kernelspec": {
   "display_name": "Python 3 (ipykernel)",
   "language": "python",
   "name": "python3"
  },
  "language_info": {
   "codemirror_mode": {
    "name": "ipython",
    "version": 3
   },
   "file_extension": ".py",
   "mimetype": "text/x-python",
   "name": "python",
   "nbconvert_exporter": "python",
   "pygments_lexer": "ipython3",
   "version": "3.10.9"
  }
 },
 "nbformat": 4,
 "nbformat_minor": 5
}
